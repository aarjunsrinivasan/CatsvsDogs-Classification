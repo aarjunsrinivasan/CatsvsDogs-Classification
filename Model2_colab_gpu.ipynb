{
  "nbformat": 4,
  "nbformat_minor": 0,
  "metadata": {
    "accelerator": "GPU",
    "colab": {
      "name": "Model2_colab_gpu.ipynb",
      "provenance": [],
      "include_colab_link": true
    },
    "kernelspec": {
      "display_name": "Python 3",
      "language": "python",
      "name": "python3"
    },
    "language_info": {
      "codemirror_mode": {
        "name": "ipython",
        "version": 3
      },
      "file_extension": ".py",
      "mimetype": "text/x-python",
      "name": "python",
      "nbconvert_exporter": "python",
      "pygments_lexer": "ipython3",
      "version": "3.7.6"
    }
  },
  "cells": [
    {
      "cell_type": "markdown",
      "metadata": {
        "id": "view-in-github",
        "colab_type": "text"
      },
      "source": [
        "<a href=\"https://colab.research.google.com/github/aarjunsrinivasan/CatsvsDogs-Classification/blob/master/Model2_colab_gpu.ipynb\" target=\"_parent\"><img src=\"https://colab.research.google.com/assets/colab-badge.svg\" alt=\"Open In Colab\"/></a>"
      ]
    },
    {
      "cell_type": "markdown",
      "metadata": {
        "id": "LyucqQC7rLSq",
        "colab_type": "text"
      },
      "source": [
        "# Mount Drive and Unzip the Data folder "
      ]
    },
    {
      "cell_type": "markdown",
      "metadata": {
        "id": "bee8-2c_rLSt",
        "colab_type": "text"
      },
      "source": [
        "## USE GPU IN COLAB"
      ]
    },
    {
      "cell_type": "markdown",
      "metadata": {
        "id": "9EZTph-qrLSw",
        "colab_type": "text"
      },
      "source": [
        "###Uncomment it for extracting"
      ]
    },
    {
      "cell_type": "code",
      "metadata": {
        "colab_type": "code",
        "id": "Enmt_b6zH7WM",
        "colab": {}
      },
      "source": [
        "# import zipfile\n",
        "# with zipfile.ZipFile('/content/Data.zip', 'r') as zip_ref:\n",
        "#     zip_ref.extractall('/content/drive/My Drive/training')"
      ],
      "execution_count": 0,
      "outputs": []
    },
    {
      "cell_type": "code",
      "metadata": {
        "colab_type": "code",
        "id": "9bEwllATOhTO",
        "colab": {}
      },
      "source": [
        "from tensorflow.keras.preprocessing.image import ImageDataGenerator\n",
        "from tensorflow.keras.models import Sequential, Model\n",
        "from tensorflow.keras.optimizers import RMSprop\n",
        "from tensorflow.keras.layers import Activation, Dropout, Flatten, Dense, GlobalMaxPooling2D, Conv2D, MaxPooling2D\n",
        "from tensorflow.keras.callbacks import CSVLogger\n",
        "import tensorflow as tf"
      ],
      "execution_count": 0,
      "outputs": []
    },
    {
      "cell_type": "code",
      "metadata": {
        "colab_type": "code",
        "id": "o2LdAluqOzhr",
        "outputId": "bfabe0cf-1f6b-4949-8d4b-a1a4e5cd1c41",
        "colab": {
          "base_uri": "https://localhost:8080/",
          "height": 54
        }
      },
      "source": [
        "logsFile = \"logs.csv\"\n",
        "summaryFile = \"modelSummary.txt\"\n",
        "modelFile = \"trainModel.h5\"\n",
        "\n",
        "'''Insert Data Path Here'''\n",
        "'''Extract the Data folder as given in the drive link and its path here'''\n",
        "path = \"/content/drive/My Drive/training/Data/\"\n",
        "trainingDirectory = path + \"train\"\n",
        "validationDirectory = path + \"validation\"\n",
        "#testDirectory = path + \"test\"\n",
        "\n",
        "'''Image Data Generator'''\n",
        "trainingDataGenerator = ImageDataGenerator(rescale=1./255, shear_range=0.1, zoom_range=0.1, horizontal_flip=True)\n",
        "validationDataGenerator = ImageDataGenerator(rescale=1./255)\n",
        "#testDataGenerator = ImageDataGenerator(rescale=1./255)\n",
        "\n",
        "'''Dataset Preparation'''\n",
        "trainGenerator = trainingDataGenerator.flow_from_directory(trainingDirectory, target_size=(200, 200), batch_size=32, class_mode=\"binary\")\n",
        "validationGenerator = validationDataGenerator.flow_from_directory(validationDirectory, target_size=(200, 200), batch_size=32, class_mode=\"binary\")"
      ],
      "execution_count": 0,
      "outputs": [
        {
          "output_type": "stream",
          "text": [
            "Found 11060 images belonging to 2 classes.\n",
            "Found 0 images belonging to 0 classes.\n"
          ],
          "name": "stdout"
        }
      ]
    },
    {
      "cell_type": "code",
      "metadata": {
        "colab_type": "code",
        "id": "qnOCO4kkPHuU",
        "colab": {}
      },
      "source": [
        "'''CNN Model'''\n",
        "model = Sequential()\n",
        "\n",
        "model.add(Conv2D(32, 3, 3, padding='same', input_shape=(200, 200, 3), activation='relu'))\n",
        "model.add(MaxPooling2D((3, 3)))\n",
        "\n",
        "model.add(Conv2D(64, 3, 3, padding='same', activation='relu'))\n",
        "model.add(MaxPooling2D((3, 3)))\n",
        "model.add(Dropout(0.5))\n",
        "\n",
        "model.add(Conv2D(64, 3, 3, padding='same', activation='relu'))\n",
        "\n",
        "model.add(Flatten())\n",
        "model.add(Dense(1024, activation='relu'))\n",
        "model.add(Dropout(0.8))\n",
        "\n",
        "model.add(Dense(256, activation='relu'))\n",
        "model.add(Dropout(0.5))\n",
        "\n",
        "model.add(Dense(1))\n",
        "model.add(Activation('sigmoid'))\n",
        "\n"
      ],
      "execution_count": 0,
      "outputs": []
    },
    {
      "cell_type": "code",
      "metadata": {
        "colab_type": "code",
        "id": "wwLy27MGSO2v",
        "outputId": "da6ced3d-1c8a-42b1-afd2-ee7307a69657",
        "colab": {
          "base_uri": "https://localhost:8080/",
          "height": 35
        }
      },
      "source": [
        "tf.test.gpu_device_name()"
      ],
      "execution_count": 0,
      "outputs": [
        {
          "output_type": "execute_result",
          "data": {
            "text/plain": [
              "'/device:GPU:0'"
            ]
          },
          "metadata": {
            "tags": []
          },
          "execution_count": 3
        }
      ]
    },
    {
      "cell_type": "code",
      "metadata": {
        "colab_type": "code",
        "id": "MCKpxgqiT52G",
        "colab": {}
      },
      "source": [
        "  with tf.device('/device:GPU:0'):\n",
        "    model.compile(loss='binary_crossentropy',optimizer='adam',metrics=['accuracy'])\n",
        "       "
      ],
      "execution_count": 0,
      "outputs": []
    },
    {
      "cell_type": "code",
      "metadata": {
        "colab_type": "code",
        "id": "Gy3z0a56Umaa",
        "outputId": "ec4de823-5b81-4c4b-847b-2dd28eb97644",
        "colab": {
          "base_uri": "https://localhost:8080/",
          "height": 35
        }
      },
      "source": [
        "hist=model.fit_generator(trainGenerator,\n",
        "                    steps_per_epoch=len(trainGenerator.filenames) // 32,\n",
        "                    epochs=1,\n",
        "                    validation_data=validationGenerator,\n",
        "                    validation_steps=len(validationGenerator.filenames) // 32,\n",
        "                    verbose=1)"
      ],
      "execution_count": 0,
      "outputs": [
        {
          "output_type": "stream",
          "text": [
            "255/345 [=====================>........] - ETA: 29:21 - loss: 0.3233 - accuracy: 0.9051"
          ],
          "name": "stdout"
        }
      ]
    },
    {
      "cell_type": "code",
      "metadata": {
        "colab_type": "code",
        "id": "YOuIeD8sUu5a",
        "colab": {}
      },
      "source": [
        "import matplotlib.pyplot as plt\n",
        "f, ax = plt.subplots()\n",
        "ax.plot([None] + hist.history['loss'], 'o-')\n",
        "ax.plot([None] + hist.history['val_loss'], 'x-')\n",
        "ax.legend(['Train Loss', 'Test Loss'], loc = 0)\n",
        "ax.set_title('Training/Test Loss per Epoch')\n",
        "ax.set_xlabel('Epoch')\n",
        "ax.set_ylabel('Loss') \n",
        "plt.show()"
      ],
      "execution_count": 0,
      "outputs": []
    }
  ]
}